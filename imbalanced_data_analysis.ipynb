{
  "nbformat": 4,
  "nbformat_minor": 0,
  "metadata": {
    "colab": {
      "name": "imbalanced-data-analysis.ipynb",
      "provenance": [],
      "collapsed_sections": []
    },
    "kernelspec": {
      "name": "python3",
      "display_name": "Python 3"
    },
    "language_info": {
      "name": "python"
    }
  },
  "cells": [
    {
      "cell_type": "markdown",
      "metadata": {
        "id": "W-1mIt62xxs3"
      },
      "source": [
        "# **Imbalance Classification with Credit Fraud Dataset**"
      ]
    },
    {
      "cell_type": "markdown",
      "metadata": {
        "id": "gEwD-ZNpyj0P"
      },
      "source": [
        "In this notebook, we will study how classification should be done on unbalanced dataset.\n",
        "* What is Unbalanced Data?\n",
        "* With which models are unbalanced data trained?\n",
        "* Which evaluation metric is correct to use in Unbalanced Data?\n",
        "\n",
        "We will seek answers to these questions."
      ]
    },
    {
      "cell_type": "markdown",
      "metadata": {
        "id": "nQljCwru0SUu"
      },
      "source": [
        "## Imbalanced Data\n",
        "\n",
        "The number of examples that belong to each class may be referred to as the class distribution.\n",
        "\n",
        "Imbalanced classification refers to a classification predictive modeling problem where the number of examples in the training dataset for each class label is not balanced. That is, where the class distribution is not equal or close to equal, and is instead biased or skewed. \n",
        "\n",
        "The abundance of examples from the majority class (or classes) can swamp the minority class. Most machine learning algorithms for classification predictive models are designed and demonstrated on problems that assume an equal distribution of classes. This means that a naive application of a model may focus on learning the characteristics of the abundant observations only, neglecting the examples from the minority class that is, in fact, of more interest and whose predictions are more valuable.\n",
        "\n",
        "Ps: The class or classes with abundant examples are called the major or majority classes, whereas the class with few examples (and there is typically just one) is called the minor or minority class.\n",
        "\n",
        "Many classification problems may have a severe imbalance in the class distribution. Some of those;\n",
        "* Fraud Detection.\n",
        "* Claim Prediction\n",
        "* Default Prediction.\n",
        "* Churn Prediction.\n",
        "* Spam Detection.\n",
        "* Anomaly Detection.\n",
        "* Outlier Detection.\n",
        "* Intrusion Detection\n",
        "* Conversion Prediction."
      ]
    },
    {
      "cell_type": "markdown",
      "metadata": {
        "id": "v_YqaMND8-F6"
      },
      "source": [
        "## 1.Data Exploration\n",
        "\n",
        "The problem we chose to examine the imbalanced classification in this notebook was credit card fraud. We will work with the [Credit Card Fraud Detection](https://www.kaggle.com/mlg-ulb/creditcardfraud) dataset hosted on Kaggle. "
      ]
    },
    {
      "cell_type": "code",
      "metadata": {
        "id": "lccso5MM-lSb",
        "colab": {
          "base_uri": "https://localhost:8080/"
        },
        "outputId": "1a8a77d0-48ac-4f6d-8af7-81aab1b45eb2"
      },
      "source": [
        "try:\n",
        "  import warnings\n",
        "\n",
        "  import numpy as np\n",
        "  import pandas as pd\n",
        "  import seaborn as sns\n",
        "  import matplotlib.pyplot as plt\n",
        "\n",
        "  from sklearn.metrics import confusion_matrix, accuracy_score, roc_auc_score\n",
        "  from sklearn.model_selection import train_test_split, StratifiedKFold\n",
        "  from sklearn.preprocessing import RobustScaler\n",
        "\n",
        "  from xgboost import XGBClassifier\n",
        "  from sklearn.linear_model import LogisticRegression\n",
        "  from sklearn.tree import DecisionTreeClassifier\n",
        "  from sklearn.ensemble import RandomForestClassifier\n",
        "  from sklearn.ensemble import AdaBoostClassifier, GradientBoostingClassifier\n",
        "\n",
        "\n",
        "  print(\"Libraries imported.\")\n",
        "except:\n",
        "  print(\"Failed to import libraries!!\")"
      ],
      "execution_count": null,
      "outputs": [
        {
          "output_type": "stream",
          "name": "stdout",
          "text": [
            "Libraries imported.\n"
          ]
        }
      ]
    },
    {
      "cell_type": "code",
      "metadata": {
        "id": "S-wMAKnl-vSe"
      },
      "source": [
        "warnings.filterwarnings(\"ignore\")\n",
        "plt.rcParams['figure.figsize'] = (8, 8)\n",
        "colors = plt.rcParams['axes.prop_cycle'].by_key()['color']"
      ],
      "execution_count": null,
      "outputs": []
    },
    {
      "cell_type": "code",
      "metadata": {
        "id": "toJneRx8-17B"
      },
      "source": [
        "df = pd.read_csv('https://storage.googleapis.com/download.tensorflow.org/data/creditcard.csv')"
      ],
      "execution_count": null,
      "outputs": []
    },
    {
      "cell_type": "code",
      "metadata": {
        "colab": {
          "base_uri": "https://localhost:8080/"
        },
        "id": "9z-3Z88bCoPG",
        "outputId": "3af0439d-1b83-455b-8aa9-d00bb62016e8"
      },
      "source": [
        "df.shape"
      ],
      "execution_count": null,
      "outputs": [
        {
          "output_type": "execute_result",
          "data": {
            "text/plain": [
              "(284807, 31)"
            ]
          },
          "metadata": {},
          "execution_count": 37
        }
      ]
    },
    {
      "cell_type": "code",
      "metadata": {
        "colab": {
          "base_uri": "https://localhost:8080/",
          "height": 224
        },
        "id": "nZB8YGVYCoYq",
        "outputId": "72fa2023-b7e3-4643-8983-bf1e5a24cf8b"
      },
      "source": [
        "df.head()"
      ],
      "execution_count": null,
      "outputs": [
        {
          "output_type": "execute_result",
          "data": {
            "text/html": [
              "<div>\n",
              "<style scoped>\n",
              "    .dataframe tbody tr th:only-of-type {\n",
              "        vertical-align: middle;\n",
              "    }\n",
              "\n",
              "    .dataframe tbody tr th {\n",
              "        vertical-align: top;\n",
              "    }\n",
              "\n",
              "    .dataframe thead th {\n",
              "        text-align: right;\n",
              "    }\n",
              "</style>\n",
              "<table border=\"1\" class=\"dataframe\">\n",
              "  <thead>\n",
              "    <tr style=\"text-align: right;\">\n",
              "      <th></th>\n",
              "      <th>Time</th>\n",
              "      <th>V1</th>\n",
              "      <th>V2</th>\n",
              "      <th>V3</th>\n",
              "      <th>V4</th>\n",
              "      <th>V5</th>\n",
              "      <th>V6</th>\n",
              "      <th>V7</th>\n",
              "      <th>V8</th>\n",
              "      <th>V9</th>\n",
              "      <th>V10</th>\n",
              "      <th>V11</th>\n",
              "      <th>V12</th>\n",
              "      <th>V13</th>\n",
              "      <th>V14</th>\n",
              "      <th>V15</th>\n",
              "      <th>V16</th>\n",
              "      <th>V17</th>\n",
              "      <th>V18</th>\n",
              "      <th>V19</th>\n",
              "      <th>V20</th>\n",
              "      <th>V21</th>\n",
              "      <th>V22</th>\n",
              "      <th>V23</th>\n",
              "      <th>V24</th>\n",
              "      <th>V25</th>\n",
              "      <th>V26</th>\n",
              "      <th>V27</th>\n",
              "      <th>V28</th>\n",
              "      <th>Amount</th>\n",
              "      <th>Class</th>\n",
              "    </tr>\n",
              "  </thead>\n",
              "  <tbody>\n",
              "    <tr>\n",
              "      <th>0</th>\n",
              "      <td>0.0</td>\n",
              "      <td>-1.359807</td>\n",
              "      <td>-0.072781</td>\n",
              "      <td>2.536347</td>\n",
              "      <td>1.378155</td>\n",
              "      <td>-0.338321</td>\n",
              "      <td>0.462388</td>\n",
              "      <td>0.239599</td>\n",
              "      <td>0.098698</td>\n",
              "      <td>0.363787</td>\n",
              "      <td>0.090794</td>\n",
              "      <td>-0.551600</td>\n",
              "      <td>-0.617801</td>\n",
              "      <td>-0.991390</td>\n",
              "      <td>-0.311169</td>\n",
              "      <td>1.468177</td>\n",
              "      <td>-0.470401</td>\n",
              "      <td>0.207971</td>\n",
              "      <td>0.025791</td>\n",
              "      <td>0.403993</td>\n",
              "      <td>0.251412</td>\n",
              "      <td>-0.018307</td>\n",
              "      <td>0.277838</td>\n",
              "      <td>-0.110474</td>\n",
              "      <td>0.066928</td>\n",
              "      <td>0.128539</td>\n",
              "      <td>-0.189115</td>\n",
              "      <td>0.133558</td>\n",
              "      <td>-0.021053</td>\n",
              "      <td>149.62</td>\n",
              "      <td>0</td>\n",
              "    </tr>\n",
              "    <tr>\n",
              "      <th>1</th>\n",
              "      <td>0.0</td>\n",
              "      <td>1.191857</td>\n",
              "      <td>0.266151</td>\n",
              "      <td>0.166480</td>\n",
              "      <td>0.448154</td>\n",
              "      <td>0.060018</td>\n",
              "      <td>-0.082361</td>\n",
              "      <td>-0.078803</td>\n",
              "      <td>0.085102</td>\n",
              "      <td>-0.255425</td>\n",
              "      <td>-0.166974</td>\n",
              "      <td>1.612727</td>\n",
              "      <td>1.065235</td>\n",
              "      <td>0.489095</td>\n",
              "      <td>-0.143772</td>\n",
              "      <td>0.635558</td>\n",
              "      <td>0.463917</td>\n",
              "      <td>-0.114805</td>\n",
              "      <td>-0.183361</td>\n",
              "      <td>-0.145783</td>\n",
              "      <td>-0.069083</td>\n",
              "      <td>-0.225775</td>\n",
              "      <td>-0.638672</td>\n",
              "      <td>0.101288</td>\n",
              "      <td>-0.339846</td>\n",
              "      <td>0.167170</td>\n",
              "      <td>0.125895</td>\n",
              "      <td>-0.008983</td>\n",
              "      <td>0.014724</td>\n",
              "      <td>2.69</td>\n",
              "      <td>0</td>\n",
              "    </tr>\n",
              "    <tr>\n",
              "      <th>2</th>\n",
              "      <td>1.0</td>\n",
              "      <td>-1.358354</td>\n",
              "      <td>-1.340163</td>\n",
              "      <td>1.773209</td>\n",
              "      <td>0.379780</td>\n",
              "      <td>-0.503198</td>\n",
              "      <td>1.800499</td>\n",
              "      <td>0.791461</td>\n",
              "      <td>0.247676</td>\n",
              "      <td>-1.514654</td>\n",
              "      <td>0.207643</td>\n",
              "      <td>0.624501</td>\n",
              "      <td>0.066084</td>\n",
              "      <td>0.717293</td>\n",
              "      <td>-0.165946</td>\n",
              "      <td>2.345865</td>\n",
              "      <td>-2.890083</td>\n",
              "      <td>1.109969</td>\n",
              "      <td>-0.121359</td>\n",
              "      <td>-2.261857</td>\n",
              "      <td>0.524980</td>\n",
              "      <td>0.247998</td>\n",
              "      <td>0.771679</td>\n",
              "      <td>0.909412</td>\n",
              "      <td>-0.689281</td>\n",
              "      <td>-0.327642</td>\n",
              "      <td>-0.139097</td>\n",
              "      <td>-0.055353</td>\n",
              "      <td>-0.059752</td>\n",
              "      <td>378.66</td>\n",
              "      <td>0</td>\n",
              "    </tr>\n",
              "    <tr>\n",
              "      <th>3</th>\n",
              "      <td>1.0</td>\n",
              "      <td>-0.966272</td>\n",
              "      <td>-0.185226</td>\n",
              "      <td>1.792993</td>\n",
              "      <td>-0.863291</td>\n",
              "      <td>-0.010309</td>\n",
              "      <td>1.247203</td>\n",
              "      <td>0.237609</td>\n",
              "      <td>0.377436</td>\n",
              "      <td>-1.387024</td>\n",
              "      <td>-0.054952</td>\n",
              "      <td>-0.226487</td>\n",
              "      <td>0.178228</td>\n",
              "      <td>0.507757</td>\n",
              "      <td>-0.287924</td>\n",
              "      <td>-0.631418</td>\n",
              "      <td>-1.059647</td>\n",
              "      <td>-0.684093</td>\n",
              "      <td>1.965775</td>\n",
              "      <td>-1.232622</td>\n",
              "      <td>-0.208038</td>\n",
              "      <td>-0.108300</td>\n",
              "      <td>0.005274</td>\n",
              "      <td>-0.190321</td>\n",
              "      <td>-1.175575</td>\n",
              "      <td>0.647376</td>\n",
              "      <td>-0.221929</td>\n",
              "      <td>0.062723</td>\n",
              "      <td>0.061458</td>\n",
              "      <td>123.50</td>\n",
              "      <td>0</td>\n",
              "    </tr>\n",
              "    <tr>\n",
              "      <th>4</th>\n",
              "      <td>2.0</td>\n",
              "      <td>-1.158233</td>\n",
              "      <td>0.877737</td>\n",
              "      <td>1.548718</td>\n",
              "      <td>0.403034</td>\n",
              "      <td>-0.407193</td>\n",
              "      <td>0.095921</td>\n",
              "      <td>0.592941</td>\n",
              "      <td>-0.270533</td>\n",
              "      <td>0.817739</td>\n",
              "      <td>0.753074</td>\n",
              "      <td>-0.822843</td>\n",
              "      <td>0.538196</td>\n",
              "      <td>1.345852</td>\n",
              "      <td>-1.119670</td>\n",
              "      <td>0.175121</td>\n",
              "      <td>-0.451449</td>\n",
              "      <td>-0.237033</td>\n",
              "      <td>-0.038195</td>\n",
              "      <td>0.803487</td>\n",
              "      <td>0.408542</td>\n",
              "      <td>-0.009431</td>\n",
              "      <td>0.798278</td>\n",
              "      <td>-0.137458</td>\n",
              "      <td>0.141267</td>\n",
              "      <td>-0.206010</td>\n",
              "      <td>0.502292</td>\n",
              "      <td>0.219422</td>\n",
              "      <td>0.215153</td>\n",
              "      <td>69.99</td>\n",
              "      <td>0</td>\n",
              "    </tr>\n",
              "  </tbody>\n",
              "</table>\n",
              "</div>"
            ],
            "text/plain": [
              "   Time        V1        V2        V3  ...       V27       V28  Amount  Class\n",
              "0   0.0 -1.359807 -0.072781  2.536347  ...  0.133558 -0.021053  149.62      0\n",
              "1   0.0  1.191857  0.266151  0.166480  ... -0.008983  0.014724    2.69      0\n",
              "2   1.0 -1.358354 -1.340163  1.773209  ... -0.055353 -0.059752  378.66      0\n",
              "3   1.0 -0.966272 -0.185226  1.792993  ...  0.062723  0.061458  123.50      0\n",
              "4   2.0 -1.158233  0.877737  1.548718  ...  0.219422  0.215153   69.99      0\n",
              "\n",
              "[5 rows x 31 columns]"
            ]
          },
          "metadata": {},
          "execution_count": 38
        }
      ]
    },
    {
      "cell_type": "markdown",
      "metadata": {
        "id": "PtsCcTdYECVd"
      },
      "source": [
        "Time -> Number of seconds elapsed between this transaction and the first transaction in the dataset.\n",
        "\n",
        "(V1-V28) -> may be result of a PCA Dimensionality reduction to protect user identities and sensitive features.\n",
        "\n",
        "Amount -> Transaction amount\n",
        "\n",
        "Class -> 1 for fraudulent transactions, 0 otherwise\n",
        "\n",
        "**As described in the dataset, the features are scaled and the names of the features are not shown due to privacy reasons.**"
      ]
    },
    {
      "cell_type": "code",
      "metadata": {
        "colab": {
          "base_uri": "https://localhost:8080/",
          "height": 317
        },
        "id": "1iNYMcyl-8t7",
        "outputId": "3095da31-14ae-420a-8b03-cab0f4f4564e"
      },
      "source": [
        "df.describe()"
      ],
      "execution_count": null,
      "outputs": [
        {
          "output_type": "execute_result",
          "data": {
            "text/html": [
              "<div>\n",
              "<style scoped>\n",
              "    .dataframe tbody tr th:only-of-type {\n",
              "        vertical-align: middle;\n",
              "    }\n",
              "\n",
              "    .dataframe tbody tr th {\n",
              "        vertical-align: top;\n",
              "    }\n",
              "\n",
              "    .dataframe thead th {\n",
              "        text-align: right;\n",
              "    }\n",
              "</style>\n",
              "<table border=\"1\" class=\"dataframe\">\n",
              "  <thead>\n",
              "    <tr style=\"text-align: right;\">\n",
              "      <th></th>\n",
              "      <th>Time</th>\n",
              "      <th>V1</th>\n",
              "      <th>V2</th>\n",
              "      <th>V3</th>\n",
              "      <th>V4</th>\n",
              "      <th>V5</th>\n",
              "      <th>V6</th>\n",
              "      <th>V7</th>\n",
              "      <th>V8</th>\n",
              "      <th>V9</th>\n",
              "      <th>V10</th>\n",
              "      <th>V11</th>\n",
              "      <th>V12</th>\n",
              "      <th>V13</th>\n",
              "      <th>V14</th>\n",
              "      <th>V15</th>\n",
              "      <th>V16</th>\n",
              "      <th>V17</th>\n",
              "      <th>V18</th>\n",
              "      <th>V19</th>\n",
              "      <th>V20</th>\n",
              "      <th>V21</th>\n",
              "      <th>V22</th>\n",
              "      <th>V23</th>\n",
              "      <th>V24</th>\n",
              "      <th>V25</th>\n",
              "      <th>V26</th>\n",
              "      <th>V27</th>\n",
              "      <th>V28</th>\n",
              "      <th>Amount</th>\n",
              "      <th>Class</th>\n",
              "    </tr>\n",
              "  </thead>\n",
              "  <tbody>\n",
              "    <tr>\n",
              "      <th>count</th>\n",
              "      <td>284807.000000</td>\n",
              "      <td>2.848070e+05</td>\n",
              "      <td>2.848070e+05</td>\n",
              "      <td>2.848070e+05</td>\n",
              "      <td>2.848070e+05</td>\n",
              "      <td>2.848070e+05</td>\n",
              "      <td>2.848070e+05</td>\n",
              "      <td>2.848070e+05</td>\n",
              "      <td>2.848070e+05</td>\n",
              "      <td>2.848070e+05</td>\n",
              "      <td>2.848070e+05</td>\n",
              "      <td>2.848070e+05</td>\n",
              "      <td>2.848070e+05</td>\n",
              "      <td>2.848070e+05</td>\n",
              "      <td>2.848070e+05</td>\n",
              "      <td>2.848070e+05</td>\n",
              "      <td>2.848070e+05</td>\n",
              "      <td>2.848070e+05</td>\n",
              "      <td>2.848070e+05</td>\n",
              "      <td>2.848070e+05</td>\n",
              "      <td>2.848070e+05</td>\n",
              "      <td>2.848070e+05</td>\n",
              "      <td>2.848070e+05</td>\n",
              "      <td>2.848070e+05</td>\n",
              "      <td>2.848070e+05</td>\n",
              "      <td>2.848070e+05</td>\n",
              "      <td>2.848070e+05</td>\n",
              "      <td>2.848070e+05</td>\n",
              "      <td>2.848070e+05</td>\n",
              "      <td>284807.000000</td>\n",
              "      <td>284807.000000</td>\n",
              "    </tr>\n",
              "    <tr>\n",
              "      <th>mean</th>\n",
              "      <td>94813.859575</td>\n",
              "      <td>3.919560e-15</td>\n",
              "      <td>5.688174e-16</td>\n",
              "      <td>-8.769071e-15</td>\n",
              "      <td>2.782312e-15</td>\n",
              "      <td>-1.552563e-15</td>\n",
              "      <td>2.010663e-15</td>\n",
              "      <td>-1.694249e-15</td>\n",
              "      <td>-1.927028e-16</td>\n",
              "      <td>-3.137024e-15</td>\n",
              "      <td>1.768627e-15</td>\n",
              "      <td>9.170318e-16</td>\n",
              "      <td>-1.810658e-15</td>\n",
              "      <td>1.693438e-15</td>\n",
              "      <td>1.479045e-15</td>\n",
              "      <td>3.482336e-15</td>\n",
              "      <td>1.392007e-15</td>\n",
              "      <td>-7.528491e-16</td>\n",
              "      <td>4.328772e-16</td>\n",
              "      <td>9.049732e-16</td>\n",
              "      <td>5.085503e-16</td>\n",
              "      <td>1.537294e-16</td>\n",
              "      <td>7.959909e-16</td>\n",
              "      <td>5.367590e-16</td>\n",
              "      <td>4.458112e-15</td>\n",
              "      <td>1.453003e-15</td>\n",
              "      <td>1.699104e-15</td>\n",
              "      <td>-3.660161e-16</td>\n",
              "      <td>-1.206049e-16</td>\n",
              "      <td>88.349619</td>\n",
              "      <td>0.001727</td>\n",
              "    </tr>\n",
              "    <tr>\n",
              "      <th>std</th>\n",
              "      <td>47488.145955</td>\n",
              "      <td>1.958696e+00</td>\n",
              "      <td>1.651309e+00</td>\n",
              "      <td>1.516255e+00</td>\n",
              "      <td>1.415869e+00</td>\n",
              "      <td>1.380247e+00</td>\n",
              "      <td>1.332271e+00</td>\n",
              "      <td>1.237094e+00</td>\n",
              "      <td>1.194353e+00</td>\n",
              "      <td>1.098632e+00</td>\n",
              "      <td>1.088850e+00</td>\n",
              "      <td>1.020713e+00</td>\n",
              "      <td>9.992014e-01</td>\n",
              "      <td>9.952742e-01</td>\n",
              "      <td>9.585956e-01</td>\n",
              "      <td>9.153160e-01</td>\n",
              "      <td>8.762529e-01</td>\n",
              "      <td>8.493371e-01</td>\n",
              "      <td>8.381762e-01</td>\n",
              "      <td>8.140405e-01</td>\n",
              "      <td>7.709250e-01</td>\n",
              "      <td>7.345240e-01</td>\n",
              "      <td>7.257016e-01</td>\n",
              "      <td>6.244603e-01</td>\n",
              "      <td>6.056471e-01</td>\n",
              "      <td>5.212781e-01</td>\n",
              "      <td>4.822270e-01</td>\n",
              "      <td>4.036325e-01</td>\n",
              "      <td>3.300833e-01</td>\n",
              "      <td>250.120109</td>\n",
              "      <td>0.041527</td>\n",
              "    </tr>\n",
              "    <tr>\n",
              "      <th>min</th>\n",
              "      <td>0.000000</td>\n",
              "      <td>-5.640751e+01</td>\n",
              "      <td>-7.271573e+01</td>\n",
              "      <td>-4.832559e+01</td>\n",
              "      <td>-5.683171e+00</td>\n",
              "      <td>-1.137433e+02</td>\n",
              "      <td>-2.616051e+01</td>\n",
              "      <td>-4.355724e+01</td>\n",
              "      <td>-7.321672e+01</td>\n",
              "      <td>-1.343407e+01</td>\n",
              "      <td>-2.458826e+01</td>\n",
              "      <td>-4.797473e+00</td>\n",
              "      <td>-1.868371e+01</td>\n",
              "      <td>-5.791881e+00</td>\n",
              "      <td>-1.921433e+01</td>\n",
              "      <td>-4.498945e+00</td>\n",
              "      <td>-1.412985e+01</td>\n",
              "      <td>-2.516280e+01</td>\n",
              "      <td>-9.498746e+00</td>\n",
              "      <td>-7.213527e+00</td>\n",
              "      <td>-5.449772e+01</td>\n",
              "      <td>-3.483038e+01</td>\n",
              "      <td>-1.093314e+01</td>\n",
              "      <td>-4.480774e+01</td>\n",
              "      <td>-2.836627e+00</td>\n",
              "      <td>-1.029540e+01</td>\n",
              "      <td>-2.604551e+00</td>\n",
              "      <td>-2.256568e+01</td>\n",
              "      <td>-1.543008e+01</td>\n",
              "      <td>0.000000</td>\n",
              "      <td>0.000000</td>\n",
              "    </tr>\n",
              "    <tr>\n",
              "      <th>25%</th>\n",
              "      <td>54201.500000</td>\n",
              "      <td>-9.203734e-01</td>\n",
              "      <td>-5.985499e-01</td>\n",
              "      <td>-8.903648e-01</td>\n",
              "      <td>-8.486401e-01</td>\n",
              "      <td>-6.915971e-01</td>\n",
              "      <td>-7.682956e-01</td>\n",
              "      <td>-5.540759e-01</td>\n",
              "      <td>-2.086297e-01</td>\n",
              "      <td>-6.430976e-01</td>\n",
              "      <td>-5.354257e-01</td>\n",
              "      <td>-7.624942e-01</td>\n",
              "      <td>-4.055715e-01</td>\n",
              "      <td>-6.485393e-01</td>\n",
              "      <td>-4.255740e-01</td>\n",
              "      <td>-5.828843e-01</td>\n",
              "      <td>-4.680368e-01</td>\n",
              "      <td>-4.837483e-01</td>\n",
              "      <td>-4.988498e-01</td>\n",
              "      <td>-4.562989e-01</td>\n",
              "      <td>-2.117214e-01</td>\n",
              "      <td>-2.283949e-01</td>\n",
              "      <td>-5.423504e-01</td>\n",
              "      <td>-1.618463e-01</td>\n",
              "      <td>-3.545861e-01</td>\n",
              "      <td>-3.171451e-01</td>\n",
              "      <td>-3.269839e-01</td>\n",
              "      <td>-7.083953e-02</td>\n",
              "      <td>-5.295979e-02</td>\n",
              "      <td>5.600000</td>\n",
              "      <td>0.000000</td>\n",
              "    </tr>\n",
              "    <tr>\n",
              "      <th>50%</th>\n",
              "      <td>84692.000000</td>\n",
              "      <td>1.810880e-02</td>\n",
              "      <td>6.548556e-02</td>\n",
              "      <td>1.798463e-01</td>\n",
              "      <td>-1.984653e-02</td>\n",
              "      <td>-5.433583e-02</td>\n",
              "      <td>-2.741871e-01</td>\n",
              "      <td>4.010308e-02</td>\n",
              "      <td>2.235804e-02</td>\n",
              "      <td>-5.142873e-02</td>\n",
              "      <td>-9.291738e-02</td>\n",
              "      <td>-3.275735e-02</td>\n",
              "      <td>1.400326e-01</td>\n",
              "      <td>-1.356806e-02</td>\n",
              "      <td>5.060132e-02</td>\n",
              "      <td>4.807155e-02</td>\n",
              "      <td>6.641332e-02</td>\n",
              "      <td>-6.567575e-02</td>\n",
              "      <td>-3.636312e-03</td>\n",
              "      <td>3.734823e-03</td>\n",
              "      <td>-6.248109e-02</td>\n",
              "      <td>-2.945017e-02</td>\n",
              "      <td>6.781943e-03</td>\n",
              "      <td>-1.119293e-02</td>\n",
              "      <td>4.097606e-02</td>\n",
              "      <td>1.659350e-02</td>\n",
              "      <td>-5.213911e-02</td>\n",
              "      <td>1.342146e-03</td>\n",
              "      <td>1.124383e-02</td>\n",
              "      <td>22.000000</td>\n",
              "      <td>0.000000</td>\n",
              "    </tr>\n",
              "    <tr>\n",
              "      <th>75%</th>\n",
              "      <td>139320.500000</td>\n",
              "      <td>1.315642e+00</td>\n",
              "      <td>8.037239e-01</td>\n",
              "      <td>1.027196e+00</td>\n",
              "      <td>7.433413e-01</td>\n",
              "      <td>6.119264e-01</td>\n",
              "      <td>3.985649e-01</td>\n",
              "      <td>5.704361e-01</td>\n",
              "      <td>3.273459e-01</td>\n",
              "      <td>5.971390e-01</td>\n",
              "      <td>4.539234e-01</td>\n",
              "      <td>7.395934e-01</td>\n",
              "      <td>6.182380e-01</td>\n",
              "      <td>6.625050e-01</td>\n",
              "      <td>4.931498e-01</td>\n",
              "      <td>6.488208e-01</td>\n",
              "      <td>5.232963e-01</td>\n",
              "      <td>3.996750e-01</td>\n",
              "      <td>5.008067e-01</td>\n",
              "      <td>4.589494e-01</td>\n",
              "      <td>1.330408e-01</td>\n",
              "      <td>1.863772e-01</td>\n",
              "      <td>5.285536e-01</td>\n",
              "      <td>1.476421e-01</td>\n",
              "      <td>4.395266e-01</td>\n",
              "      <td>3.507156e-01</td>\n",
              "      <td>2.409522e-01</td>\n",
              "      <td>9.104512e-02</td>\n",
              "      <td>7.827995e-02</td>\n",
              "      <td>77.165000</td>\n",
              "      <td>0.000000</td>\n",
              "    </tr>\n",
              "    <tr>\n",
              "      <th>max</th>\n",
              "      <td>172792.000000</td>\n",
              "      <td>2.454930e+00</td>\n",
              "      <td>2.205773e+01</td>\n",
              "      <td>9.382558e+00</td>\n",
              "      <td>1.687534e+01</td>\n",
              "      <td>3.480167e+01</td>\n",
              "      <td>7.330163e+01</td>\n",
              "      <td>1.205895e+02</td>\n",
              "      <td>2.000721e+01</td>\n",
              "      <td>1.559499e+01</td>\n",
              "      <td>2.374514e+01</td>\n",
              "      <td>1.201891e+01</td>\n",
              "      <td>7.848392e+00</td>\n",
              "      <td>7.126883e+00</td>\n",
              "      <td>1.052677e+01</td>\n",
              "      <td>8.877742e+00</td>\n",
              "      <td>1.731511e+01</td>\n",
              "      <td>9.253526e+00</td>\n",
              "      <td>5.041069e+00</td>\n",
              "      <td>5.591971e+00</td>\n",
              "      <td>3.942090e+01</td>\n",
              "      <td>2.720284e+01</td>\n",
              "      <td>1.050309e+01</td>\n",
              "      <td>2.252841e+01</td>\n",
              "      <td>4.584549e+00</td>\n",
              "      <td>7.519589e+00</td>\n",
              "      <td>3.517346e+00</td>\n",
              "      <td>3.161220e+01</td>\n",
              "      <td>3.384781e+01</td>\n",
              "      <td>25691.160000</td>\n",
              "      <td>1.000000</td>\n",
              "    </tr>\n",
              "  </tbody>\n",
              "</table>\n",
              "</div>"
            ],
            "text/plain": [
              "                Time            V1  ...         Amount          Class\n",
              "count  284807.000000  2.848070e+05  ...  284807.000000  284807.000000\n",
              "mean    94813.859575  3.919560e-15  ...      88.349619       0.001727\n",
              "std     47488.145955  1.958696e+00  ...     250.120109       0.041527\n",
              "min         0.000000 -5.640751e+01  ...       0.000000       0.000000\n",
              "25%     54201.500000 -9.203734e-01  ...       5.600000       0.000000\n",
              "50%     84692.000000  1.810880e-02  ...      22.000000       0.000000\n",
              "75%    139320.500000  1.315642e+00  ...      77.165000       0.000000\n",
              "max    172792.000000  2.454930e+00  ...   25691.160000       1.000000\n",
              "\n",
              "[8 rows x 31 columns]"
            ]
          },
          "metadata": {},
          "execution_count": 39
        }
      ]
    },
    {
      "cell_type": "code",
      "metadata": {
        "colab": {
          "base_uri": "https://localhost:8080/"
        },
        "id": "vDkWY8gCDDuS",
        "outputId": "4f7a706c-c599-42c9-86be-9acb119020f8"
      },
      "source": [
        "print(\"Count of Missing Value is: \"+ str(df.isna().sum().max()))"
      ],
      "execution_count": null,
      "outputs": [
        {
          "output_type": "stream",
          "name": "stdout",
          "text": [
            "Count of Missing Value is: 0\n"
          ]
        }
      ]
    },
    {
      "cell_type": "code",
      "metadata": {
        "id": "ajWR4LoTDVFC",
        "colab": {
          "base_uri": "https://localhost:8080/",
          "height": 282
        },
        "outputId": "21b53676-da5d-4772-85e1-d8dd064293b4"
      },
      "source": [
        "fig, ax = plt.subplots(1, 2, figsize=(18,4))\n",
        "\n",
        "amount_val = df['Amount'].values\n",
        "time_val = df['Time'].values\n",
        "\n",
        "sns.distplot(amount_val, ax=ax[0])\n",
        "ax[0].set_title('Distribution of Transaction Amount', fontsize=14)\n",
        "ax[0].set_xlim([min(df.Amount.values), max(df.Amount.values)])\n",
        "\n",
        "sns.distplot(time_val, ax=ax[1])\n",
        "ax[1].set_title('Distribution of Transaction Time', fontsize=14)\n",
        "ax[1].set_xlim([min(df.Time.values), max(df.Time.values)])\n",
        "\n",
        "\n",
        "\n",
        "plt.show()"
      ],
      "execution_count": null,
      "outputs": [
        {
          "output_type": "display_data",
          "data": {
            "image/png": "[encoded data removed]",
            "text/plain": [
              "<Figure size 1296x288 with 2 Axes>"
            ]
          },
          "metadata": {
            "needs_background": "light"
          }
        }
      ]
    },
    {
      "cell_type": "code",
      "metadata": {
        "colab": {
          "base_uri": "https://localhost:8080/",
          "height": 500
        },
        "id": "M5bu9Q0O_Lv6",
        "outputId": "f970763b-a294-4420-faca-0bdb589f6c4d"
      },
      "source": [
        "df.Class.value_counts().plot.pie(autopct=\"%.1f%%\",fontsize=20)\n",
        "plt.title(\"Class Value Count\", fontsize=14)"
      ],
      "execution_count": null,
      "outputs": [
        {
          "output_type": "execute_result",
          "data": {
            "text/plain": [
              "Text(0.5, 1.0, 'Class Value Count')"
            ]
          },
          "metadata": {},
          "execution_count": 42
        },
        {
          "output_type": "display_data",
          "data": {
            "image/png": "[encoded data removed]",
            "text/plain": [
              "<Figure size 576x576 with 1 Axes>"
            ]
          },
          "metadata": {}
        }
      ]
    },
    {
      "cell_type": "markdown",
      "metadata": {
        "id": "C_qn0bX3crON"
      },
      "source": [
        "## 2.Data Preprocessing\n",
        "\n",
        "Amount of the Credit Card Fraud dataset have very different scales and contain some very large outliers. These two characteristics lead to difficulties to visualize the data and, more importantly, they can degrade the predictive performance of many machine learning algorithms. Unscaled data can also slow down or even prevent the convergence of many gradient-based estimators.\n",
        "\n",
        "# 2.1.Scaling\n",
        "\n",
        "The centering and scaling statistics of RobustScaler is based on percentiles and are therefore not influenced by a few number of very large marginal outliers. "
      ]
    },
    {
      "cell_type": "code",
      "metadata": {
        "id": "9iq08VDRP7Wl"
      },
      "source": [
        "scaler = RobustScaler()\n",
        "\n",
        "df['scaled_amount'] = scaler.fit_transform(df['Amount'].values.reshape(-1,1))\n",
        "df['scaled_time'] = scaler.fit_transform(df['Time'].values.reshape(-1,1))\n",
        "\n",
        "df.drop(['Time','Amount'], axis=1, inplace=True)"
      ],
      "execution_count": null,
      "outputs": []
    },
    {
      "cell_type": "markdown",
      "metadata": {
        "id": "q_Iy8yeAfUQw"
      },
      "source": [
        "# 2.2.Split Data"
      ]
    },
    {
      "cell_type": "markdown",
      "metadata": {
        "id": "WLM_zR-ZgP8k"
      },
      "source": [
        "Before proceeding with the Re-Sampling techniques we have to separate the orginal dataframe. Why? for testing purposes, remember although we are splitting the data when implementing Re-Sampling techniques, we want to test our models on the original testing set not on the testing set created by either of these techniques. The main goal is to fit the model either with the dataframes that were undersample and oversample (in order for our models to detect the patterns), and test it on the original testing set."
      ]
    },
    {
      "cell_type": "code",
      "metadata": {
        "id": "r6RLfMT7fbYn"
      },
      "source": [
        "df_copy = df.copy()\n",
        "\n",
        "y = df_copy.pop('Class')\n",
        "X = df_copy\n",
        "\n",
        "skf = StratifiedKFold(n_splits=5, random_state=None, shuffle=False)\n",
        "\n",
        "for train_index, test_index in skf.split(X, y):\n",
        "    Xtrain, Xtest = X.iloc[train_index], X.iloc[test_index]\n",
        "    ytrain, ytest = y.iloc[train_index], y.iloc[test_index]\n",
        "\n",
        "Xtrain = Xtrain.values\n",
        "Xtest = Xtest.values\n",
        "ytrain = ytrain.values\n",
        "ytest = ytest.values"
      ],
      "execution_count": null,
      "outputs": []
    },
    {
      "cell_type": "code",
      "metadata": {
        "colab": {
          "base_uri": "https://localhost:8080/"
        },
        "id": "xAutL8uAvrre",
        "outputId": "31be6766-33ff-474a-b943-4ce6ba397e6a"
      },
      "source": [
        "print(Xtrain.shape)\n",
        "print(Xtest.shape)"
      ],
      "execution_count": null,
      "outputs": [
        {
          "output_type": "stream",
          "name": "stdout",
          "text": [
            "(227846, 30)\n",
            "(56961, 30)\n"
          ]
        }
      ]
    },
    {
      "cell_type": "code",
      "metadata": {
        "colab": {
          "base_uri": "https://localhost:8080/",
          "height": 224
        },
        "id": "3yxDaaCemCbT",
        "outputId": "c7da37ec-1569-4289-c56d-8c9d7846391a"
      },
      "source": [
        "df = df.sample(frac=1)\n",
        "\n",
        "fraud_df = df.loc[df['Class'] == 1]\n",
        "non_fraud_df = df.loc[df['Class'] == 0][:len(fraud_df)]\n",
        "\n",
        "normal_distributed_df = pd.concat([fraud_df, non_fraud_df])\n",
        "\n",
        "new_df = normal_distributed_df.sample(frac=1, random_state=42)\n",
        "\n",
        "new_df.head()"
      ],
      "execution_count": null,
      "outputs": [
        {
          "output_type": "execute_result",
          "data": {
            "text/html": [
              "<div>\n",
              "<style scoped>\n",
              "    .dataframe tbody tr th:only-of-type {\n",
              "        vertical-align: middle;\n",
              "    }\n",
              "\n",
              "    .dataframe tbody tr th {\n",
              "        vertical-align: top;\n",
              "    }\n",
              "\n",
              "    .dataframe thead th {\n",
              "        text-align: right;\n",
              "    }\n",
              "</style>\n",
              "<table border=\"1\" class=\"dataframe\">\n",
              "  <thead>\n",
              "    <tr style=\"text-align: right;\">\n",
              "      <th></th>\n",
              "      <th>V1</th>\n",
              "      <th>V2</th>\n",
              "      <th>V3</th>\n",
              "      <th>V4</th>\n",
              "      <th>V5</th>\n",
              "      <th>V6</th>\n",
              "      <th>V7</th>\n",
              "      <th>V8</th>\n",
              "      <th>V9</th>\n",
              "      <th>V10</th>\n",
              "      <th>V11</th>\n",
              "      <th>V12</th>\n",
              "      <th>V13</th>\n",
              "      <th>V14</th>\n",
              "      <th>V15</th>\n",
              "      <th>V16</th>\n",
              "      <th>V17</th>\n",
              "      <th>V18</th>\n",
              "      <th>V19</th>\n",
              "      <th>V20</th>\n",
              "      <th>V21</th>\n",
              "      <th>V22</th>\n",
              "      <th>V23</th>\n",
              "      <th>V24</th>\n",
              "      <th>V25</th>\n",
              "      <th>V26</th>\n",
              "      <th>V27</th>\n",
              "      <th>V28</th>\n",
              "      <th>Class</th>\n",
              "      <th>scaled_amount</th>\n",
              "      <th>scaled_time</th>\n",
              "    </tr>\n",
              "  </thead>\n",
              "  <tbody>\n",
              "    <tr>\n",
              "      <th>119934</th>\n",
              "      <td>-1.010514</td>\n",
              "      <td>1.046555</td>\n",
              "      <td>0.976703</td>\n",
              "      <td>-1.685199</td>\n",
              "      <td>-0.393491</td>\n",
              "      <td>-1.728835</td>\n",
              "      <td>0.774116</td>\n",
              "      <td>0.130066</td>\n",
              "      <td>0.343159</td>\n",
              "      <td>-1.792082</td>\n",
              "      <td>-0.049408</td>\n",
              "      <td>1.388713</td>\n",
              "      <td>0.816125</td>\n",
              "      <td>0.229849</td>\n",
              "      <td>-0.087022</td>\n",
              "      <td>-1.026666</td>\n",
              "      <td>0.215289</td>\n",
              "      <td>-0.506211</td>\n",
              "      <td>0.022602</td>\n",
              "      <td>-0.032424</td>\n",
              "      <td>0.063292</td>\n",
              "      <td>0.344471</td>\n",
              "      <td>-0.348916</td>\n",
              "      <td>0.969378</td>\n",
              "      <td>1.097208</td>\n",
              "      <td>-0.648502</td>\n",
              "      <td>0.110193</td>\n",
              "      <td>-0.038529</td>\n",
              "      <td>0</td>\n",
              "      <td>-0.150632</td>\n",
              "      <td>-0.106357</td>\n",
              "    </tr>\n",
              "    <tr>\n",
              "      <th>239501</th>\n",
              "      <td>-6.682832</td>\n",
              "      <td>-2.714268</td>\n",
              "      <td>-5.774530</td>\n",
              "      <td>1.449792</td>\n",
              "      <td>-0.661836</td>\n",
              "      <td>-1.148650</td>\n",
              "      <td>0.849686</td>\n",
              "      <td>0.433427</td>\n",
              "      <td>-1.315646</td>\n",
              "      <td>-2.796332</td>\n",
              "      <td>-0.448794</td>\n",
              "      <td>-2.562602</td>\n",
              "      <td>0.243483</td>\n",
              "      <td>-1.181669</td>\n",
              "      <td>0.004373</td>\n",
              "      <td>-2.302596</td>\n",
              "      <td>-4.446192</td>\n",
              "      <td>-1.710463</td>\n",
              "      <td>0.982729</td>\n",
              "      <td>-1.928527</td>\n",
              "      <td>0.220526</td>\n",
              "      <td>1.187013</td>\n",
              "      <td>0.335821</td>\n",
              "      <td>0.215683</td>\n",
              "      <td>0.803110</td>\n",
              "      <td>0.044033</td>\n",
              "      <td>-0.054988</td>\n",
              "      <td>0.082337</td>\n",
              "      <td>1</td>\n",
              "      <td>3.007895</td>\n",
              "      <td>0.768888</td>\n",
              "    </tr>\n",
              "    <tr>\n",
              "      <th>69265</th>\n",
              "      <td>-0.986359</td>\n",
              "      <td>-0.986568</td>\n",
              "      <td>0.810163</td>\n",
              "      <td>-2.295833</td>\n",
              "      <td>-0.119063</td>\n",
              "      <td>-0.291529</td>\n",
              "      <td>-1.057358</td>\n",
              "      <td>0.453522</td>\n",
              "      <td>-2.002365</td>\n",
              "      <td>0.352957</td>\n",
              "      <td>-2.399792</td>\n",
              "      <td>-0.569409</td>\n",
              "      <td>1.583207</td>\n",
              "      <td>-0.866187</td>\n",
              "      <td>-1.531980</td>\n",
              "      <td>-0.260477</td>\n",
              "      <td>0.293973</td>\n",
              "      <td>0.163664</td>\n",
              "      <td>-0.061673</td>\n",
              "      <td>-0.185592</td>\n",
              "      <td>-0.170995</td>\n",
              "      <td>-0.305573</td>\n",
              "      <td>-0.366794</td>\n",
              "      <td>-0.977288</td>\n",
              "      <td>0.561127</td>\n",
              "      <td>-0.181472</td>\n",
              "      <td>-0.066971</td>\n",
              "      <td>-0.196170</td>\n",
              "      <td>0</td>\n",
              "      <td>-0.265353</td>\n",
              "      <td>-0.368296</td>\n",
              "    </tr>\n",
              "    <tr>\n",
              "      <th>204079</th>\n",
              "      <td>1.862102</td>\n",
              "      <td>-0.124052</td>\n",
              "      <td>-1.989752</td>\n",
              "      <td>0.382609</td>\n",
              "      <td>0.473032</td>\n",
              "      <td>-0.674517</td>\n",
              "      <td>0.298621</td>\n",
              "      <td>-0.282416</td>\n",
              "      <td>0.802053</td>\n",
              "      <td>-0.989431</td>\n",
              "      <td>-0.491112</td>\n",
              "      <td>0.903819</td>\n",
              "      <td>1.366524</td>\n",
              "      <td>-1.886162</td>\n",
              "      <td>-0.194861</td>\n",
              "      <td>0.086837</td>\n",
              "      <td>0.978546</td>\n",
              "      <td>0.055604</td>\n",
              "      <td>0.189131</td>\n",
              "      <td>0.150727</td>\n",
              "      <td>-0.204158</td>\n",
              "      <td>-0.511441</td>\n",
              "      <td>0.077874</td>\n",
              "      <td>0.388335</td>\n",
              "      <td>0.007896</td>\n",
              "      <td>-0.120980</td>\n",
              "      <td>-0.019579</td>\n",
              "      <td>0.006155</td>\n",
              "      <td>1</td>\n",
              "      <td>1.208831</td>\n",
              "      <td>0.592230</td>\n",
              "    </tr>\n",
              "    <tr>\n",
              "      <th>15476</th>\n",
              "      <td>-21.209120</td>\n",
              "      <td>12.652197</td>\n",
              "      <td>-23.553933</td>\n",
              "      <td>6.174078</td>\n",
              "      <td>-16.026658</td>\n",
              "      <td>-4.422195</td>\n",
              "      <td>-16.229444</td>\n",
              "      <td>14.116002</td>\n",
              "      <td>-3.922741</td>\n",
              "      <td>-8.720245</td>\n",
              "      <td>5.493887</td>\n",
              "      <td>-7.740816</td>\n",
              "      <td>0.384814</td>\n",
              "      <td>-8.078241</td>\n",
              "      <td>-0.014900</td>\n",
              "      <td>-6.701289</td>\n",
              "      <td>-13.159267</td>\n",
              "      <td>-4.903031</td>\n",
              "      <td>1.146275</td>\n",
              "      <td>1.602439</td>\n",
              "      <td>1.758440</td>\n",
              "      <td>-1.522588</td>\n",
              "      <td>-0.903860</td>\n",
              "      <td>0.130166</td>\n",
              "      <td>1.454857</td>\n",
              "      <td>-0.223214</td>\n",
              "      <td>1.550928</td>\n",
              "      <td>0.461460</td>\n",
              "      <td>1</td>\n",
              "      <td>1.089779</td>\n",
              "      <td>-0.679390</td>\n",
              "    </tr>\n",
              "  </tbody>\n",
              "</table>\n",
              "</div>"
            ],
            "text/plain": [
              "               V1         V2         V3  ...  Class  scaled_amount  scaled_time\n",
              "119934  -1.010514   1.046555   0.976703  ...      0      -0.150632    -0.106357\n",
              "239501  -6.682832  -2.714268  -5.774530  ...      1       3.007895     0.768888\n",
              "69265   -0.986359  -0.986568   0.810163  ...      0      -0.265353    -0.368296\n",
              "204079   1.862102  -0.124052  -1.989752  ...      1       1.208831     0.592230\n",
              "15476  -21.209120  12.652197 -23.553933  ...      1       1.089779    -0.679390\n",
              "\n",
              "[5 rows x 31 columns]"
            ]
          },
          "metadata": {},
          "execution_count": 64
        }
      ]
    },
    {
      "cell_type": "code",
      "metadata": {
        "colab": {
          "base_uri": "https://localhost:8080/"
        },
        "id": "CWBQFeTmwG3A",
        "outputId": "ab464285-e3fc-4be6-ca75-3da899d984e0"
      },
      "source": [
        "new_df.shape"
      ],
      "execution_count": null,
      "outputs": [
        {
          "output_type": "execute_result",
          "data": {
            "text/plain": [
              "(984, 31)"
            ]
          },
          "metadata": {},
          "execution_count": 65
        }
      ]
    },
    {
      "cell_type": "code",
      "metadata": {
        "colab": {
          "base_uri": "https://localhost:8080/",
          "height": 500
        },
        "id": "OugaI9cQnMtY",
        "outputId": "65831f80-bf31-4a72-f534-48cd8dcfa130"
      },
      "source": [
        "new_df.Class.value_counts().plot.pie(autopct=\"%.1f%%\",fontsize=20)\n",
        "plt.title(\"Class Value Count\", fontsize=14)"
      ],
      "execution_count": null,
      "outputs": [
        {
          "output_type": "execute_result",
          "data": {
            "text/plain": [
              "Text(0.5, 1.0, 'Class Value Count')"
            ]
          },
          "metadata": {},
          "execution_count": 49
        },
        {
          "output_type": "display_data",
          "data": {
            "image/png": "[encoded data removed]",
            "text/plain": [
              "<Figure size 576x576 with 1 Axes>"
            ]
          },
          "metadata": {}
        }
      ]
    },
    {
      "cell_type": "code",
      "metadata": {
        "colab": {
          "base_uri": "https://localhost:8080/"
        },
        "id": "rtvr_hCoZLWL",
        "outputId": "66ef81d9-1bda-488e-b346-cb1246c5f7ed"
      },
      "source": [
        "\n",
        "\n",
        "\n",
        "X_train, X_test, y_train, y_test = train_test_split(X, y, test_size=0.2, random_state=1)\n",
        "\n",
        "model = XGBClassifier()\n",
        "model.fit(X_train, y_train)\n",
        "y_pred = model.predict(X_test)\n",
        "\n",
        "accuracy = accuracy_score(y_test, y_pred)\n",
        "print(\"Accuracy: %.2f%%\" % (accuracy * 100.0))"
      ],
      "execution_count": null,
      "outputs": [
        {
          "output_type": "stream",
          "name": "stdout",
          "text": [
            "Accuracy: 99.95%\n"
          ]
        }
      ]
    },
    {
      "cell_type": "code",
      "metadata": {
        "colab": {
          "base_uri": "https://localhost:8080/",
          "height": 466
        },
        "id": "1IZnVM0laNz3",
        "outputId": "3697c2ed-2085-4f95-e350-78d478dc63bc"
      },
      "source": [
        "conf_mat = confusion_matrix(y_true=y_test, y_pred=y_pred)\n",
        "\n",
        "labels = ['Class 0', 'Class 1']\n",
        "fig = plt.figure()\n",
        "ax = fig.add_subplot(111)\n",
        "cax = ax.matshow(conf_mat, cmap=plt.cm.Blues)\n",
        "fig.colorbar(cax)\n",
        "ax.set_xticklabels([''] + labels)\n",
        "ax.set_yticklabels([''] + labels)\n",
        "plt.xlabel('Predicted')\n",
        "plt.ylabel('Expected')\n",
        "plt.show()"
      ],
      "execution_count": null,
      "outputs": [
        {
          "output_type": "display_data",
          "data": {
            "image/png": "[encoded data removed]",
            "text/plain": [
              "<Figure size 576x576 with 2 Axes>"
            ]
          },
          "metadata": {
            "needs_background": "light"
          }
        }
      ]
    },
    {
      "cell_type": "code",
      "metadata": {
        "id": "-PPKvue9aN6L"
      },
      "source": [
        ""
      ],
      "execution_count": null,
      "outputs": []
    },
    {
      "cell_type": "code",
      "metadata": {
        "id": "zXo7q_IfuSrq"
      },
      "source": [
        "sns.jointplot(df[]['V5'], pos_df['V6'],\n",
        "              kind='hex', xlim=(-5,5), ylim=(-5,5))\n",
        "plt.suptitle(\"Positive distribution\")\n",
        "\n",
        "sns.jointplot(neg_df['V5'], neg_df['V6'],\n",
        "              kind='hex', xlim=(-5,5), ylim=(-5,5))\n",
        "_ = plt.suptitle(\"Negative distribution\")"
      ],
      "execution_count": null,
      "outputs": []
    },
    {
      "cell_type": "code",
      "metadata": {
        "id": "mn5XzA98uSuC"
      },
      "source": [
        ""
      ],
      "execution_count": null,
      "outputs": []
    },
    {
      "cell_type": "code",
      "metadata": {
        "id": "ONOqGHm1uSwn"
      },
      "source": [
        ""
      ],
      "execution_count": null,
      "outputs": []
    },
    {
      "cell_type": "code",
      "metadata": {
        "id": "OnsIN_ZAtm0X"
      },
      "source": [
        "train_df, test_df = train_test_split(df, test_size=0.2)\n",
        "train_df, val_df = train_test_split(train_df, test_size=0.2)"
      ],
      "execution_count": null,
      "outputs": []
    },
    {
      "cell_type": "code",
      "metadata": {
        "id": "4o158ejAtm2k"
      },
      "source": [
        "train_labels = np.array(train_df.pop('Class'))\n",
        "bool_train_labels = train_labels != 0\n",
        "val_labels = np.array(val_df.pop('Class'))\n",
        "test_labels = np.array(test_df.pop('Class'))\n",
        "\n",
        "train_features = np.array(train_df)\n",
        "val_features = np.array(val_df)\n",
        "test_features = np.array(test_df)"
      ],
      "execution_count": null,
      "outputs": []
    },
    {
      "cell_type": "code",
      "metadata": {
        "id": "jV4sxwtCtm5P"
      },
      "source": [
        "pos_df = pd.DataFrame(train_features[ bool_train_labels], columns=train_df.columns)\n",
        "neg_df = pd.DataFrame(train_features[~bool_train_labels], columns=train_df.columns)"
      ],
      "execution_count": null,
      "outputs": []
    },
    {
      "cell_type": "code",
      "metadata": {
        "colab": {
          "base_uri": "https://localhost:8080/",
          "height": 439
        },
        "id": "yF6Gg66Utm7y",
        "outputId": "b9d27fa6-d905-4800-c098-fb29ca3acd9f"
      },
      "source": [
        "pos_df"
      ],
      "execution_count": null,
      "outputs": [
        {
          "output_type": "execute_result",
          "data": {
            "text/html": [
              "<div>\n",
              "<style scoped>\n",
              "    .dataframe tbody tr th:only-of-type {\n",
              "        vertical-align: middle;\n",
              "    }\n",
              "\n",
              "    .dataframe tbody tr th {\n",
              "        vertical-align: top;\n",
              "    }\n",
              "\n",
              "    .dataframe thead th {\n",
              "        text-align: right;\n",
              "    }\n",
              "</style>\n",
              "<table border=\"1\" class=\"dataframe\">\n",
              "  <thead>\n",
              "    <tr style=\"text-align: right;\">\n",
              "      <th></th>\n",
              "      <th>V1</th>\n",
              "      <th>V2</th>\n",
              "      <th>V3</th>\n",
              "      <th>V4</th>\n",
              "      <th>V5</th>\n",
              "      <th>V6</th>\n",
              "      <th>V7</th>\n",
              "      <th>V8</th>\n",
              "      <th>V9</th>\n",
              "      <th>V10</th>\n",
              "      <th>V11</th>\n",
              "      <th>V12</th>\n",
              "      <th>V13</th>\n",
              "      <th>V14</th>\n",
              "      <th>V15</th>\n",
              "      <th>V16</th>\n",
              "      <th>V17</th>\n",
              "      <th>V18</th>\n",
              "      <th>V19</th>\n",
              "      <th>V20</th>\n",
              "      <th>V21</th>\n",
              "      <th>V22</th>\n",
              "      <th>V23</th>\n",
              "      <th>V24</th>\n",
              "      <th>V25</th>\n",
              "      <th>V26</th>\n",
              "      <th>V27</th>\n",
              "      <th>V28</th>\n",
              "      <th>scaled_amount</th>\n",
              "      <th>scaled_time</th>\n",
              "    </tr>\n",
              "  </thead>\n",
              "  <tbody>\n",
              "    <tr>\n",
              "      <th>0</th>\n",
              "      <td>1.118331</td>\n",
              "      <td>2.074439</td>\n",
              "      <td>-3.837518</td>\n",
              "      <td>5.448060</td>\n",
              "      <td>0.071816</td>\n",
              "      <td>-1.020509</td>\n",
              "      <td>-1.808574</td>\n",
              "      <td>0.521744</td>\n",
              "      <td>-2.032638</td>\n",
              "      <td>-2.732792</td>\n",
              "      <td>3.274075</td>\n",
              "      <td>-3.541687</td>\n",
              "      <td>-0.946820</td>\n",
              "      <td>-7.555729</td>\n",
              "      <td>-1.767005</td>\n",
              "      <td>-0.642333</td>\n",
              "      <td>-2.114429</td>\n",
              "      <td>0.183327</td>\n",
              "      <td>-1.177793</td>\n",
              "      <td>0.163513</td>\n",
              "      <td>0.289861</td>\n",
              "      <td>-0.172718</td>\n",
              "      <td>-0.021910</td>\n",
              "      <td>-0.376560</td>\n",
              "      <td>0.192817</td>\n",
              "      <td>0.114107</td>\n",
              "      <td>0.500996</td>\n",
              "      <td>0.259533</td>\n",
              "      <td>-0.293440</td>\n",
              "      <td>0.689176</td>\n",
              "    </tr>\n",
              "    <tr>\n",
              "      <th>1</th>\n",
              "      <td>-10.527304</td>\n",
              "      <td>7.639745</td>\n",
              "      <td>-13.443115</td>\n",
              "      <td>4.303403</td>\n",
              "      <td>-8.048210</td>\n",
              "      <td>-3.466997</td>\n",
              "      <td>-8.643193</td>\n",
              "      <td>7.284105</td>\n",
              "      <td>-2.362097</td>\n",
              "      <td>-5.996596</td>\n",
              "      <td>2.589104</td>\n",
              "      <td>-5.962261</td>\n",
              "      <td>-0.468955</td>\n",
              "      <td>-6.778184</td>\n",
              "      <td>0.907947</td>\n",
              "      <td>-3.970130</td>\n",
              "      <td>-6.857613</td>\n",
              "      <td>-2.511736</td>\n",
              "      <td>0.511762</td>\n",
              "      <td>0.847085</td>\n",
              "      <td>0.937416</td>\n",
              "      <td>-0.931178</td>\n",
              "      <td>-0.235697</td>\n",
              "      <td>-0.031393</td>\n",
              "      <td>0.591558</td>\n",
              "      <td>-0.263516</td>\n",
              "      <td>1.108897</td>\n",
              "      <td>0.219021</td>\n",
              "      <td>1.089779</td>\n",
              "      <td>-0.394236</td>\n",
              "    </tr>\n",
              "    <tr>\n",
              "      <th>2</th>\n",
              "      <td>1.083693</td>\n",
              "      <td>1.179501</td>\n",
              "      <td>-1.346150</td>\n",
              "      <td>1.998824</td>\n",
              "      <td>0.818034</td>\n",
              "      <td>-0.771419</td>\n",
              "      <td>0.230307</td>\n",
              "      <td>0.093683</td>\n",
              "      <td>-0.167594</td>\n",
              "      <td>-1.959809</td>\n",
              "      <td>2.804335</td>\n",
              "      <td>0.312424</td>\n",
              "      <td>-0.595976</td>\n",
              "      <td>-4.662577</td>\n",
              "      <td>-0.299515</td>\n",
              "      <td>1.001414</td>\n",
              "      <td>3.902825</td>\n",
              "      <td>1.619609</td>\n",
              "      <td>-0.888087</td>\n",
              "      <td>-0.060159</td>\n",
              "      <td>-0.312000</td>\n",
              "      <td>-0.639700</td>\n",
              "      <td>-0.120249</td>\n",
              "      <td>-0.180218</td>\n",
              "      <td>0.609283</td>\n",
              "      <td>-0.339524</td>\n",
              "      <td>0.096701</td>\n",
              "      <td>0.114972</td>\n",
              "      <td>-0.293440</td>\n",
              "      <td>-0.524043</td>\n",
              "    </tr>\n",
              "    <tr>\n",
              "      <th>3</th>\n",
              "      <td>-2.019001</td>\n",
              "      <td>1.491270</td>\n",
              "      <td>0.005222</td>\n",
              "      <td>0.817253</td>\n",
              "      <td>0.973252</td>\n",
              "      <td>-0.639268</td>\n",
              "      <td>-0.974073</td>\n",
              "      <td>-3.146929</td>\n",
              "      <td>-0.003159</td>\n",
              "      <td>-0.121653</td>\n",
              "      <td>0.024370</td>\n",
              "      <td>-1.073812</td>\n",
              "      <td>-2.002769</td>\n",
              "      <td>-0.895434</td>\n",
              "      <td>1.748936</td>\n",
              "      <td>-0.103527</td>\n",
              "      <td>2.031196</td>\n",
              "      <td>0.317598</td>\n",
              "      <td>0.386761</td>\n",
              "      <td>-1.029965</td>\n",
              "      <td>2.839596</td>\n",
              "      <td>-1.185443</td>\n",
              "      <td>-0.142812</td>\n",
              "      <td>-0.086103</td>\n",
              "      <td>-0.329113</td>\n",
              "      <td>0.523601</td>\n",
              "      <td>0.626283</td>\n",
              "      <td>0.152440</td>\n",
              "      <td>-0.296793</td>\n",
              "      <td>-0.576922</td>\n",
              "    </tr>\n",
              "    <tr>\n",
              "      <th>4</th>\n",
              "      <td>-3.951209</td>\n",
              "      <td>2.881805</td>\n",
              "      <td>-6.421490</td>\n",
              "      <td>2.434181</td>\n",
              "      <td>-1.327325</td>\n",
              "      <td>-2.122106</td>\n",
              "      <td>-3.227533</td>\n",
              "      <td>-0.685560</td>\n",
              "      <td>0.775985</td>\n",
              "      <td>-4.723092</td>\n",
              "      <td>4.921657</td>\n",
              "      <td>-8.752770</td>\n",
              "      <td>1.520198</td>\n",
              "      <td>-8.552023</td>\n",
              "      <td>0.351976</td>\n",
              "      <td>-4.534030</td>\n",
              "      <td>-6.465409</td>\n",
              "      <td>-1.890310</td>\n",
              "      <td>0.174840</td>\n",
              "      <td>-0.669351</td>\n",
              "      <td>1.410479</td>\n",
              "      <td>0.279403</td>\n",
              "      <td>0.570821</td>\n",
              "      <td>0.656271</td>\n",
              "      <td>-0.298601</td>\n",
              "      <td>-0.407571</td>\n",
              "      <td>-1.378703</td>\n",
              "      <td>1.379130</td>\n",
              "      <td>0.428841</td>\n",
              "      <td>0.078890</td>\n",
              "    </tr>\n",
              "    <tr>\n",
              "      <th>...</th>\n",
              "      <td>...</td>\n",
              "      <td>...</td>\n",
              "      <td>...</td>\n",
              "      <td>...</td>\n",
              "      <td>...</td>\n",
              "      <td>...</td>\n",
              "      <td>...</td>\n",
              "      <td>...</td>\n",
              "      <td>...</td>\n",
              "      <td>...</td>\n",
              "      <td>...</td>\n",
              "      <td>...</td>\n",
              "      <td>...</td>\n",
              "      <td>...</td>\n",
              "      <td>...</td>\n",
              "      <td>...</td>\n",
              "      <td>...</td>\n",
              "      <td>...</td>\n",
              "      <td>...</td>\n",
              "      <td>...</td>\n",
              "      <td>...</td>\n",
              "      <td>...</td>\n",
              "      <td>...</td>\n",
              "      <td>...</td>\n",
              "      <td>...</td>\n",
              "      <td>...</td>\n",
              "      <td>...</td>\n",
              "      <td>...</td>\n",
              "      <td>...</td>\n",
              "      <td>...</td>\n",
              "    </tr>\n",
              "    <tr>\n",
              "      <th>301</th>\n",
              "      <td>-11.205461</td>\n",
              "      <td>7.914633</td>\n",
              "      <td>-13.987752</td>\n",
              "      <td>4.333341</td>\n",
              "      <td>-8.484970</td>\n",
              "      <td>-3.506561</td>\n",
              "      <td>-8.935243</td>\n",
              "      <td>7.704449</td>\n",
              "      <td>-2.336584</td>\n",
              "      <td>-5.927359</td>\n",
              "      <td>2.470401</td>\n",
              "      <td>-5.788517</td>\n",
              "      <td>-0.391939</td>\n",
              "      <td>-6.527462</td>\n",
              "      <td>0.899859</td>\n",
              "      <td>-3.847293</td>\n",
              "      <td>-6.700637</td>\n",
              "      <td>-2.492616</td>\n",
              "      <td>0.469554</td>\n",
              "      <td>0.860912</td>\n",
              "      <td>0.942593</td>\n",
              "      <td>-0.987848</td>\n",
              "      <td>-0.279446</td>\n",
              "      <td>-0.027299</td>\n",
              "      <td>0.644344</td>\n",
              "      <td>-0.263078</td>\n",
              "      <td>1.084023</td>\n",
              "      <td>0.211933</td>\n",
              "      <td>1.089779</td>\n",
              "      <td>-0.394001</td>\n",
              "    </tr>\n",
              "    <tr>\n",
              "      <th>302</th>\n",
              "      <td>-25.942434</td>\n",
              "      <td>14.601998</td>\n",
              "      <td>-27.368650</td>\n",
              "      <td>6.378395</td>\n",
              "      <td>-19.104033</td>\n",
              "      <td>-4.684806</td>\n",
              "      <td>-18.261393</td>\n",
              "      <td>17.052566</td>\n",
              "      <td>-3.742605</td>\n",
              "      <td>-8.233721</td>\n",
              "      <td>4.664836</td>\n",
              "      <td>-6.525668</td>\n",
              "      <td>0.923759</td>\n",
              "      <td>-6.325975</td>\n",
              "      <td>-0.070224</td>\n",
              "      <td>-5.838360</td>\n",
              "      <td>-12.061696</td>\n",
              "      <td>-4.773349</td>\n",
              "      <td>0.852970</td>\n",
              "      <td>1.667304</td>\n",
              "      <td>1.784316</td>\n",
              "      <td>-1.917759</td>\n",
              "      <td>-1.235787</td>\n",
              "      <td>0.161105</td>\n",
              "      <td>1.820378</td>\n",
              "      <td>-0.219359</td>\n",
              "      <td>1.388786</td>\n",
              "      <td>0.406810</td>\n",
              "      <td>1.089779</td>\n",
              "      <td>-0.674820</td>\n",
              "    </tr>\n",
              "    <tr>\n",
              "      <th>303</th>\n",
              "      <td>-0.234922</td>\n",
              "      <td>0.355413</td>\n",
              "      <td>1.972183</td>\n",
              "      <td>-1.255593</td>\n",
              "      <td>-0.681387</td>\n",
              "      <td>-0.665732</td>\n",
              "      <td>0.059110</td>\n",
              "      <td>-0.003153</td>\n",
              "      <td>1.122451</td>\n",
              "      <td>-1.481246</td>\n",
              "      <td>-0.473852</td>\n",
              "      <td>0.922184</td>\n",
              "      <td>0.913514</td>\n",
              "      <td>-0.499350</td>\n",
              "      <td>0.933898</td>\n",
              "      <td>-0.560472</td>\n",
              "      <td>-0.207707</td>\n",
              "      <td>0.380542</td>\n",
              "      <td>0.574336</td>\n",
              "      <td>-0.003469</td>\n",
              "      <td>0.220670</td>\n",
              "      <td>0.912107</td>\n",
              "      <td>-0.286338</td>\n",
              "      <td>0.451208</td>\n",
              "      <td>0.188315</td>\n",
              "      <td>-0.531846</td>\n",
              "      <td>0.123185</td>\n",
              "      <td>0.039581</td>\n",
              "      <td>-0.293440</td>\n",
              "      <td>-0.471810</td>\n",
              "    </tr>\n",
              "    <tr>\n",
              "      <th>304</th>\n",
              "      <td>-2.349340</td>\n",
              "      <td>1.512604</td>\n",
              "      <td>-2.647497</td>\n",
              "      <td>1.753792</td>\n",
              "      <td>0.406328</td>\n",
              "      <td>-2.188494</td>\n",
              "      <td>-0.686935</td>\n",
              "      <td>-0.547984</td>\n",
              "      <td>-0.099528</td>\n",
              "      <td>-1.672346</td>\n",
              "      <td>2.172976</td>\n",
              "      <td>-3.103477</td>\n",
              "      <td>0.217561</td>\n",
              "      <td>-6.034403</td>\n",
              "      <td>0.164401</td>\n",
              "      <td>-2.383826</td>\n",
              "      <td>-4.166479</td>\n",
              "      <td>-1.772397</td>\n",
              "      <td>-0.526281</td>\n",
              "      <td>-0.093421</td>\n",
              "      <td>-0.088519</td>\n",
              "      <td>-0.595178</td>\n",
              "      <td>0.258148</td>\n",
              "      <td>0.061901</td>\n",
              "      <td>-0.354180</td>\n",
              "      <td>-1.152671</td>\n",
              "      <td>-0.736073</td>\n",
              "      <td>0.733703</td>\n",
              "      <td>-0.238944</td>\n",
              "      <td>0.885137</td>\n",
              "    </tr>\n",
              "    <tr>\n",
              "      <th>305</th>\n",
              "      <td>0.008430</td>\n",
              "      <td>4.137837</td>\n",
              "      <td>-6.240697</td>\n",
              "      <td>6.675732</td>\n",
              "      <td>0.768307</td>\n",
              "      <td>-3.353060</td>\n",
              "      <td>-1.631735</td>\n",
              "      <td>0.154612</td>\n",
              "      <td>-2.795892</td>\n",
              "      <td>-6.187891</td>\n",
              "      <td>5.664395</td>\n",
              "      <td>-9.854485</td>\n",
              "      <td>-0.306167</td>\n",
              "      <td>-10.691196</td>\n",
              "      <td>-0.638498</td>\n",
              "      <td>-2.041974</td>\n",
              "      <td>-1.129056</td>\n",
              "      <td>0.116453</td>\n",
              "      <td>-1.934666</td>\n",
              "      <td>0.488378</td>\n",
              "      <td>0.364514</td>\n",
              "      <td>-0.608057</td>\n",
              "      <td>-0.539528</td>\n",
              "      <td>0.128940</td>\n",
              "      <td>1.488481</td>\n",
              "      <td>0.507963</td>\n",
              "      <td>0.735822</td>\n",
              "      <td>0.513574</td>\n",
              "      <td>-0.293440</td>\n",
              "      <td>-0.906566</td>\n",
              "    </tr>\n",
              "  </tbody>\n",
              "</table>\n",
              "<p>306 rows × 30 columns</p>\n",
              "</div>"
            ],
            "text/plain": [
              "            V1         V2         V3  ...       V28  scaled_amount  scaled_time\n",
              "0     1.118331   2.074439  -3.837518  ...  0.259533      -0.293440     0.689176\n",
              "1   -10.527304   7.639745 -13.443115  ...  0.219021       1.089779    -0.394236\n",
              "2     1.083693   1.179501  -1.346150  ...  0.114972      -0.293440    -0.524043\n",
              "3    -2.019001   1.491270   0.005222  ...  0.152440      -0.296793    -0.576922\n",
              "4    -3.951209   2.881805  -6.421490  ...  1.379130       0.428841     0.078890\n",
              "..         ...        ...        ...  ...       ...            ...          ...\n",
              "301 -11.205461   7.914633 -13.987752  ...  0.211933       1.089779    -0.394001\n",
              "302 -25.942434  14.601998 -27.368650  ...  0.406810       1.089779    -0.674820\n",
              "303  -0.234922   0.355413   1.972183  ...  0.039581      -0.293440    -0.471810\n",
              "304  -2.349340   1.512604  -2.647497  ...  0.733703      -0.238944     0.885137\n",
              "305   0.008430   4.137837  -6.240697  ...  0.513574      -0.293440    -0.906566\n",
              "\n",
              "[306 rows x 30 columns]"
            ]
          },
          "metadata": {},
          "execution_count": 57
        }
      ]
    },
    {
      "cell_type": "code",
      "metadata": {
        "id": "8Zh6gqoQtm-d"
      },
      "source": [
        ""
      ],
      "execution_count": null,
      "outputs": []
    },
    {
      "cell_type": "code",
      "metadata": {
        "id": "Xd1iFyFDtnBD"
      },
      "source": [
        ""
      ],
      "execution_count": null,
      "outputs": []
    },
    {
      "cell_type": "code",
      "metadata": {
        "id": "dpZlZtaFaN8i"
      },
      "source": [
        ""
      ],
      "execution_count": null,
      "outputs": []
    },
    {
      "cell_type": "code",
      "metadata": {
        "id": "T9mewIeFaN-9"
      },
      "source": [
        ""
      ],
      "execution_count": null,
      "outputs": []
    },
    {
      "cell_type": "markdown",
      "metadata": {
        "id": "g-c9uerUnad-"
      },
      "source": [
        "## 3.Re-Sampling\n",
        "\n",
        "![1_P93SeDGPGw0MhwvCcvVcXA.png](data:image/png;base64,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)"
      ]
    },
    {
      "cell_type": "code",
      "metadata": {
        "id": "1KuH0IWTP7ZI"
      },
      "source": [
        "count_class_0, count_class_1 = df_train.target.value_counts()\n",
        "\n",
        "# Divide by class\n",
        "df_class_0 = df_train[df_train['target'] == 0]\n",
        "df_class_1 = df_train[df_train['target'] == 1]"
      ],
      "execution_count": null,
      "outputs": []
    },
    {
      "cell_type": "code",
      "metadata": {
        "id": "42AlpDpNorTy"
      },
      "source": [
        ""
      ],
      "execution_count": null,
      "outputs": []
    },
    {
      "cell_type": "code",
      "metadata": {
        "id": "n8dtlya3orWO"
      },
      "source": [
        ""
      ],
      "execution_count": null,
      "outputs": []
    },
    {
      "cell_type": "code",
      "metadata": {
        "id": "nvjVQZWyorYh"
      },
      "source": [
        ""
      ],
      "execution_count": null,
      "outputs": []
    },
    {
      "cell_type": "code",
      "metadata": {
        "id": "qo_wFsA1oram"
      },
      "source": [
        ""
      ],
      "execution_count": null,
      "outputs": []
    },
    {
      "cell_type": "code",
      "metadata": {
        "id": "zyIOq_FGP7b-"
      },
      "source": [
        "def train_and_predict(model, X_train, y_train, X_test, y_test):\n",
        "    \"\"\"\n",
        "    Fit a model on X_train, y_train\n",
        "    predicts on X_text, y_test \n",
        "    Calculate AUROC on predictions made on test data\n",
        "    \n",
        "    Outputs - AUROC score, time elapse for training and prediction    \n",
        "    \"\"\"\n",
        "    start = time.time()\n",
        "    model = model.fit(X_train, y_train)\n",
        "    \n",
        "    roc_score = roc_auc_score(y_test, model.predict_proba(X_test)[:,1])\n",
        "    \n",
        "    end = time.time()\n",
        "    time_elapsed = end - start\n",
        "    \n",
        "    return roc_score, time_elapsed"
      ],
      "execution_count": null,
      "outputs": []
    },
    {
      "cell_type": "code",
      "metadata": {
        "id": "7nb6vRdWlutt"
      },
      "source": [
        "models = [(\"LogisticRegression\", LogisticRegression(random_state=SEED)),\n",
        "         (\"DecisionTreeClassifier\", DecisionTreeClassifier(random_state=SEED)),\n",
        "         (\"RandomForestClassifier\", RandomForestClassifier(random_state=SEED)),\n",
        "         (\"GradientBoostingClassifier\", GradientBoostingClassifier(random_state=SEED)),\n",
        "         (\"AdaBoostClassifier\", AdaBoostClassifier(random_state=SEED)),\n",
        "         (\"XGBClassifier\",XGBClassifier(random_state=SEED))]"
      ],
      "execution_count": null,
      "outputs": []
    },
    {
      "cell_type": "code",
      "metadata": {
        "id": "9Efoak_qluwF"
      },
      "source": [
        "results = {\"Model\":[],\n",
        "          \"AUCROC_score\":[],\n",
        "          \"Time_in_sec\":[]}\n",
        "\n",
        "for name, model in models:\n",
        "    roc, time_ = train_and_predict(model, X_train, y_train, X_val, y_val)\n",
        "    results[\"Model\"].append(name)\n",
        "    results[\"AUCROC_score\"].append(roc)\n",
        "    results[\"Time_in_sec\"].append(time_)"
      ],
      "execution_count": null,
      "outputs": []
    },
    {
      "cell_type": "code",
      "metadata": {
        "id": "iWsdTrC8luyf"
      },
      "source": [
        "results = pd.DataFrame.from_dict(results, orient='index').transpose()\n",
        "results"
      ],
      "execution_count": null,
      "outputs": []
    },
    {
      "cell_type": "code",
      "metadata": {
        "id": "Nuu_go9plu1D"
      },
      "source": [
        ""
      ],
      "execution_count": null,
      "outputs": []
    },
    {
      "cell_type": "markdown",
      "metadata": {
        "id": "YzZwZL87P7qQ"
      },
      "source": [
        "## REFERENCE\n",
        "\n",
        "* https://machinelearningmastery.com/what-is-imbalanced-classification/\n",
        "* https://scikit-learn.org/stable/auto_examples/preprocessing/plot_all_scaling.html\n",
        "* https://www.kaggle.com/rafjaa/resampling-strategies-for-imbalanced-datasets"
      ]
    },
    {
      "cell_type": "code",
      "metadata": {
        "id": "lo91PqBnQACf"
      },
      "source": [
        ""
      ],
      "execution_count": null,
      "outputs": []
    },
    {
      "cell_type": "markdown",
      "metadata": {
        "id": "gr5m0v4ryRcC"
      },
      "source": [
        "* https://www.kaggle.com/rafjaa/resampling-strategies-for-imbalanced-datasets\n",
        "* https://www.kaggle.com/qianchao/smote-with-imbalance-data\n",
        "* https://www.kaggle.com/janiobachmann/credit-fraud-dealing-with-imbalanced-datasets\n",
        "* https://www.kaggle.com/imsanjoykb/data-visualization-tutorial-matplotlib-seaborn"
      ]
    }
  ]
}